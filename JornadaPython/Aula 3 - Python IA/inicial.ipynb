{
 "cells": [
  {
   "cell_type": "markdown",
   "metadata": {},
   "source": [
    "# Projeto Python IA: Inteligência Artificial e Previsões\n",
    "\n",
    "### Case: Score de Crédito dos Clientes\n",
    "\n",
    "Você foi contratado por um banco para conseguir definir o score de crédito dos clientes. Você precisa analisar todos os clientes do banco e, com base nessa análise, criar um modelo que consiga ler as informações do cliente e dizer automaticamente o score de crédito dele: Ruim, Ok, Bom\n",
    "\n",
    "Arquivos da aula: https://drive.google.com/drive/folders/1FbDqVq4XLvU85VBlVIMJ73p9oOu6u2-J?usp=drive_link"
   ]
  },
  {
   "cell_type": "code",
   "execution_count": 9,
   "metadata": {},
   "outputs": [
    {
     "name": "stdout",
     "output_type": "stream",
     "text": [
      "<class 'pandas.core.frame.DataFrame'>\n",
      "RangeIndex: 100000 entries, 0 to 99999\n",
      "Data columns (total 24 columns):\n",
      " #   Column                    Non-Null Count   Dtype  \n",
      "---  ------                    --------------   -----  \n",
      " 0   id_cliente                100000 non-null  int64  \n",
      " 1   mes                       100000 non-null  int64  \n",
      " 2   idade                     100000 non-null  float64\n",
      " 3   salario_anual             100000 non-null  float64\n",
      " 4   num_contas                100000 non-null  float64\n",
      " 5   num_cartoes               100000 non-null  float64\n",
      " 6   juros_emprestimo          100000 non-null  float64\n",
      " 7   num_emprestimos           100000 non-null  float64\n",
      " 8   dias_atraso               100000 non-null  float64\n",
      " 9   num_pagamentos_atrasados  100000 non-null  float64\n",
      " 10  num_verificacoes_credito  100000 non-null  float64\n",
      " 11  mix_credito               100000 non-null  object \n",
      " 12  divida_total              100000 non-null  float64\n",
      " 13  taxa_uso_credito          100000 non-null  float64\n",
      " 14  idade_historico_credito   100000 non-null  float64\n",
      " 15  investimento_mensal       100000 non-null  float64\n",
      " 16  comportamento_pagamento   100000 non-null  object \n",
      " 17  saldo_final_mes           100000 non-null  float64\n",
      " 18  score_credito             100000 non-null  object \n",
      " 19  emprestimo_carro          100000 non-null  int64  \n",
      " 20  emprestimo_casa           100000 non-null  int64  \n",
      " 21  emprestimo_pessoal        100000 non-null  int64  \n",
      " 22  emprestimo_credito        100000 non-null  int64  \n",
      " 23  emprestimo_estudantil     100000 non-null  int64  \n",
      "dtypes: float64(14), int64(7), object(3)\n",
      "memory usage: 18.3+ MB\n"
     ]
    },
    {
     "data": {
      "text/plain": [
       "None"
      ]
     },
     "metadata": {},
     "output_type": "display_data"
    }
   ],
   "source": [
    "import pandas as pd\n",
    "from sklearn.preprocessing import LabelEncoder  \n",
    "\n",
    "tabela = pd.read_csv(\"clientes.csv\")\n",
    "\n",
    "codificador = LabelEncoder()\n",
    "\n",
    "tabela[\"profissao\"] = codificador.fit_transform(tabela[\"profissao\"])\n",
    "tabela[\"mix_credito\"] = codificador.fit_transform(tabela[\"mix_credito\"])\n",
    "tabela[\"comportamento_pagamento\"] = codificador.fit_transform(tabela[\"comportamento_pagamento\"])\n",
    "\n",
    "y = tabela[\"score_credito\"]\n",
    "x = tabela.drop(columns=[\"id_cliente\", \"score_credito\"])\n",
    "display(tabela.info())"
   ]
  }
 ],
 "metadata": {
  "kernelspec": {
   "display_name": "Python 3",
   "language": "python",
   "name": "python3"
  },
  "language_info": {
   "codemirror_mode": {
    "name": "ipython",
    "version": 3
   },
   "file_extension": ".py",
   "mimetype": "text/x-python",
   "name": "python",
   "nbconvert_exporter": "python",
   "pygments_lexer": "ipython3",
   "version": "3.12.3"
  },
  "orig_nbformat": 4
 },
 "nbformat": 4,
 "nbformat_minor": 2
}
